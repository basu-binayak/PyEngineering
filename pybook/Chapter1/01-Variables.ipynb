{
 "cells": [
  {
   "cell_type": "markdown",
   "metadata": {},
   "source": [
    "# Working with variables in Python to manage data\n",
    "---\n",
    "## Variables in Python\n",
    "\n",
    "A **variable** in Python is like a container that stores data.  \n",
    "Instead of remembering values directly, we give them names so we can reuse and manipulate them easily.  \n",
    "\n",
    "For example:\n",
    "```python\n",
    "x = 10\n",
    "name = \"Alice\"\n",
    "pi = 3.14\n",
    "```\n",
    "\n",
    "Here:\n",
    "\n",
    "* `x` stores an integer (`10`)\n",
    "* `name` stores a string (`\"Alice\"`)\n",
    "* `pi` stores a floating-point number (`3.14`)\n",
    "\n",
    "Variables make programs **flexible, reusable, and readable** because we can work with names instead of hardcoding values.\n",
    "\n",
    "\n",
    "---"
   ]
  },
  {
   "cell_type": "markdown",
   "metadata": {},
   "source": [
    "## Print in Python"
   ]
  },
  {
   "cell_type": "code",
   "execution_count": 1,
   "metadata": {},
   "outputs": [
    {
     "name": "stdout",
     "output_type": "stream",
     "text": [
      "Binayak Basu\n"
     ]
    }
   ],
   "source": [
    "# Let me store my name in a variable named my_name & print it  \n",
    "my_name = 'Binayak Basu'\n",
    "print(my_name)"
   ]
  },
  {
   "cell_type": "markdown",
   "metadata": {},
   "source": [
    "### Using `\\n` in printing"
   ]
  },
  {
   "cell_type": "code",
   "execution_count": 2,
   "metadata": {},
   "outputs": [
    {
     "name": "stdout",
     "output_type": "stream",
     "text": [
      "Banana is a fruit\n",
      "Apples are sweet\n",
      "Mangoes are the most delicious among fruits \n"
     ]
    }
   ],
   "source": [
    "# using \\n to go to a new line \n",
    "print(\"Banana is a fruit\\nApples are sweet\\nMangoes are the most delicious among fruits \")"
   ]
  },
  {
   "cell_type": "markdown",
   "metadata": {},
   "source": [
    "### f strings\n",
    "\n",
    "**f-strings** (formatted string literals) provide a concise and readable way to embed variables or expressions directly inside strings using `{}`. Introduced in Python 3.6, they make string formatting simpler and faster compared to older methods."
   ]
  },
  {
   "cell_type": "code",
   "execution_count": 3,
   "metadata": {},
   "outputs": [
    {
     "name": "stdout",
     "output_type": "stream",
     "text": [
      "Hello! Binayak Basu\n",
      "Hello! Binayak Basu\n",
      "Hello! Binayak Basu\n"
     ]
    }
   ],
   "source": [
    "# concatenate two strings \n",
    "my_name = \"Binayak Basu\"\n",
    "print(\"Hello!\", my_name) # Hello! Binayak Basu (  note the space in between!)\n",
    "print(\"Hello! \"+ my_name)\n",
    "\n",
    "# use f strings - best method to use \n",
    "print(f\"Hello! {my_name}\")"
   ]
  },
  {
   "cell_type": "markdown",
   "metadata": {},
   "source": [
    "---"
   ]
  },
  {
   "cell_type": "markdown",
   "metadata": {},
   "source": [
    "## Input function in Python"
   ]
  },
  {
   "cell_type": "code",
   "execution_count": 5,
   "metadata": {},
   "outputs": [
    {
     "name": "stdout",
     "output_type": "stream",
     "text": [
      "Hello! Webster\n"
     ]
    }
   ],
   "source": [
    "# take the name as input and print it\n",
    "user_name = input(\"What is your name?\")\n",
    "print(f\"Hello! {user_name}\")"
   ]
  },
  {
   "cell_type": "markdown",
   "metadata": {},
   "source": [
    "**NOTE**\n",
    "- The input that we take is always a string! \n",
    "\n",
    "*(Let us see this with an example! - this will become more clear when we cover the data types)*"
   ]
  },
  {
   "cell_type": "code",
   "execution_count": 4,
   "metadata": {},
   "outputs": [
    {
     "name": "stdout",
     "output_type": "stream",
     "text": [
      "Your age is 30\n",
      "The input is of type : <class 'str'>\n"
     ]
    }
   ],
   "source": [
    "# let us take age as an input \n",
    "age = input(\"Enter your age: \")\n",
    "print(f'Your age is {age}')\n",
    "print(f'The input is of type : {type(age)}')"
   ]
  },
  {
   "cell_type": "markdown",
   "metadata": {},
   "source": [
    "---"
   ]
  }
 ],
 "metadata": {
  "kernelspec": {
   "display_name": "Python 3",
   "language": "python",
   "name": "python3"
  },
  "language_info": {
   "codemirror_mode": {
    "name": "ipython",
    "version": 3
   },
   "file_extension": ".py",
   "mimetype": "text/x-python",
   "name": "python",
   "nbconvert_exporter": "python",
   "pygments_lexer": "ipython3",
   "version": "3.13.7"
  }
 },
 "nbformat": 4,
 "nbformat_minor": 2
}
